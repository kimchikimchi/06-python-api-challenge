{
 "cells": [
  {
   "cell_type": "markdown",
   "metadata": {},
   "source": [
    "# VacationPy\n",
    "----\n",
    "\n",
    "#### Note\n",
    "* Keep an eye on your API usage. Use https://developers.google.com/maps/reporting/gmp-reporting as reference for how to monitor your usage and billing.\n",
    "\n",
    "* Instructions have been included for each segment. You do not have to follow them exactly, but they are included to help you think through the steps."
   ]
  },
  {
   "cell_type": "code",
   "execution_count": 1,
   "metadata": {},
   "outputs": [],
   "source": [
    "# Dependencies and Setup\n",
    "import matplotlib.pyplot as plt\n",
    "import pandas as pd\n",
    "import numpy as np\n",
    "import requests\n",
    "import gmaps\n",
    "import gmaps.datasets\n",
    "import os\n",
    "from pprint import pprint\n",
    "\n",
    "# Import API key\n",
    "from api_keys import g_key"
   ]
  },
  {
   "cell_type": "markdown",
   "metadata": {},
   "source": [
    "### Store Part I results into DataFrame\n",
    "* Load the csv exported in Part I to a DataFrame"
   ]
  },
  {
   "cell_type": "code",
   "execution_count": 2,
   "metadata": {},
   "outputs": [
    {
     "output_type": "execute_result",
     "data": {
      "text/plain": [
       "                    City      Lat       Lon  Max Temp  Humidity  Cloudiness  \\\n",
       "0                  Kumul  42.8000   93.4500     48.13        35           1   \n",
       "1               Boralday  43.3578   76.8594     21.20        93          90   \n",
       "2           Longyearbyen  78.2186   15.6401     -5.21        94          95   \n",
       "3                Rikitea -23.1203 -134.9692     80.47        73          39   \n",
       "4  Conceição do Araguaia  -8.2578  -49.2647     75.61        88          57   \n",
       "\n",
       "   Wind Speed Country        Date  \n",
       "0        4.88      CN  1615674990  \n",
       "1        8.95      KZ  1615675223  \n",
       "2        4.61      SJ  1615675068  \n",
       "3        8.34      PF  1615675224  \n",
       "4        1.57      BR  1615675225  "
      ],
      "text/html": "<div>\n<style scoped>\n    .dataframe tbody tr th:only-of-type {\n        vertical-align: middle;\n    }\n\n    .dataframe tbody tr th {\n        vertical-align: top;\n    }\n\n    .dataframe thead th {\n        text-align: right;\n    }\n</style>\n<table border=\"1\" class=\"dataframe\">\n  <thead>\n    <tr style=\"text-align: right;\">\n      <th></th>\n      <th>City</th>\n      <th>Lat</th>\n      <th>Lon</th>\n      <th>Max Temp</th>\n      <th>Humidity</th>\n      <th>Cloudiness</th>\n      <th>Wind Speed</th>\n      <th>Country</th>\n      <th>Date</th>\n    </tr>\n  </thead>\n  <tbody>\n    <tr>\n      <th>0</th>\n      <td>Kumul</td>\n      <td>42.8000</td>\n      <td>93.4500</td>\n      <td>48.13</td>\n      <td>35</td>\n      <td>1</td>\n      <td>4.88</td>\n      <td>CN</td>\n      <td>1615674990</td>\n    </tr>\n    <tr>\n      <th>1</th>\n      <td>Boralday</td>\n      <td>43.3578</td>\n      <td>76.8594</td>\n      <td>21.20</td>\n      <td>93</td>\n      <td>90</td>\n      <td>8.95</td>\n      <td>KZ</td>\n      <td>1615675223</td>\n    </tr>\n    <tr>\n      <th>2</th>\n      <td>Longyearbyen</td>\n      <td>78.2186</td>\n      <td>15.6401</td>\n      <td>-5.21</td>\n      <td>94</td>\n      <td>95</td>\n      <td>4.61</td>\n      <td>SJ</td>\n      <td>1615675068</td>\n    </tr>\n    <tr>\n      <th>3</th>\n      <td>Rikitea</td>\n      <td>-23.1203</td>\n      <td>-134.9692</td>\n      <td>80.47</td>\n      <td>73</td>\n      <td>39</td>\n      <td>8.34</td>\n      <td>PF</td>\n      <td>1615675224</td>\n    </tr>\n    <tr>\n      <th>4</th>\n      <td>Conceição do Araguaia</td>\n      <td>-8.2578</td>\n      <td>-49.2647</td>\n      <td>75.61</td>\n      <td>88</td>\n      <td>57</td>\n      <td>1.57</td>\n      <td>BR</td>\n      <td>1615675225</td>\n    </tr>\n  </tbody>\n</table>\n</div>"
     },
     "metadata": {},
     "execution_count": 2
    }
   ],
   "source": [
    "\n",
    "data_df = pd.read_csv('../WeatherPy/city_weather_data.csv')\n",
    "# Drop unnamed column/index artifact.\n",
    "data_df = data_df.drop(data_df.columns[0], axis=1)\n",
    "data_df.head()"
   ]
  },
  {
   "cell_type": "markdown",
   "metadata": {},
   "source": [
    "### Humidity Heatmap\n",
    "* Configure gmaps.\n",
    "* Use the Lat and Lng as locations and Humidity as the weight.\n",
    "* Add Heatmap layer to map."
   ]
  },
  {
   "cell_type": "code",
   "execution_count": 3,
   "metadata": {},
   "outputs": [],
   "source": [
    "gmaps.configure(api_key=g_key)"
   ]
  },
  {
   "cell_type": "code",
   "execution_count": 4,
   "metadata": {},
   "outputs": [
    {
     "output_type": "display_data",
     "data": {
      "text/plain": "Figure(layout=FigureLayout(height='420px'))",
      "application/vnd.jupyter.widget-view+json": {
       "version_major": 2,
       "version_minor": 0,
       "model_id": "0608d6005c73497eb022aef5dd80cca7"
      }
     },
     "metadata": {}
    }
   ],
   "source": [
    "# See https://jupyter-gmaps.readthedocs.io/en/latest/tutorial.html for usage\n",
    "locations = data_df[['Lat', 'Lon']]\n",
    "weights = data_df['Humidity']\n",
    "fig = gmaps.figure()\n",
    "fig.add_layer(gmaps.heatmap_layer(locations, weights=weights,  dissipating=False))\n",
    "fig"
   ]
  },
  {
   "cell_type": "markdown",
   "metadata": {},
   "source": [
    "### Create new DataFrame fitting weather criteria\n",
    "* Narrow down the cities to fit weather conditions.\n",
    "* Drop any rows will null values."
   ]
  },
  {
   "cell_type": "code",
   "execution_count": 5,
   "metadata": {},
   "outputs": [
    {
     "output_type": "stream",
     "name": "stdout",
     "text": [
      "19\n"
     ]
    },
    {
     "output_type": "execute_result",
     "data": {
      "text/plain": [
       "               City      Lat      Lon  Max Temp  Humidity  Cloudiness  \\\n",
       "34        Coyhaique -45.5752 -72.0662     71.60        37           0   \n",
       "72   Saint-Philippe -21.3585  55.7679     75.20        73           0   \n",
       "101    Ballitoville -29.5390  31.2144     75.99        88           0   \n",
       "104      São Filipe  14.8961 -24.4956     70.79        76           0   \n",
       "171  Port Elizabeth -33.9180  25.5701     73.40        53           0   \n",
       "\n",
       "     Wind Speed Country        Date  \n",
       "34         6.91      CL  1615675042  \n",
       "72         5.75      RE  1615675052  \n",
       "101        6.91      ZA  1615675273  \n",
       "104        5.39      CV  1615675274  \n",
       "171        5.75      ZA  1615675311  "
      ],
      "text/html": "<div>\n<style scoped>\n    .dataframe tbody tr th:only-of-type {\n        vertical-align: middle;\n    }\n\n    .dataframe tbody tr th {\n        vertical-align: top;\n    }\n\n    .dataframe thead th {\n        text-align: right;\n    }\n</style>\n<table border=\"1\" class=\"dataframe\">\n  <thead>\n    <tr style=\"text-align: right;\">\n      <th></th>\n      <th>City</th>\n      <th>Lat</th>\n      <th>Lon</th>\n      <th>Max Temp</th>\n      <th>Humidity</th>\n      <th>Cloudiness</th>\n      <th>Wind Speed</th>\n      <th>Country</th>\n      <th>Date</th>\n    </tr>\n  </thead>\n  <tbody>\n    <tr>\n      <th>34</th>\n      <td>Coyhaique</td>\n      <td>-45.5752</td>\n      <td>-72.0662</td>\n      <td>71.60</td>\n      <td>37</td>\n      <td>0</td>\n      <td>6.91</td>\n      <td>CL</td>\n      <td>1615675042</td>\n    </tr>\n    <tr>\n      <th>72</th>\n      <td>Saint-Philippe</td>\n      <td>-21.3585</td>\n      <td>55.7679</td>\n      <td>75.20</td>\n      <td>73</td>\n      <td>0</td>\n      <td>5.75</td>\n      <td>RE</td>\n      <td>1615675052</td>\n    </tr>\n    <tr>\n      <th>101</th>\n      <td>Ballitoville</td>\n      <td>-29.5390</td>\n      <td>31.2144</td>\n      <td>75.99</td>\n      <td>88</td>\n      <td>0</td>\n      <td>6.91</td>\n      <td>ZA</td>\n      <td>1615675273</td>\n    </tr>\n    <tr>\n      <th>104</th>\n      <td>São Filipe</td>\n      <td>14.8961</td>\n      <td>-24.4956</td>\n      <td>70.79</td>\n      <td>76</td>\n      <td>0</td>\n      <td>5.39</td>\n      <td>CV</td>\n      <td>1615675274</td>\n    </tr>\n    <tr>\n      <th>171</th>\n      <td>Port Elizabeth</td>\n      <td>-33.9180</td>\n      <td>25.5701</td>\n      <td>73.40</td>\n      <td>53</td>\n      <td>0</td>\n      <td>5.75</td>\n      <td>ZA</td>\n      <td>1615675311</td>\n    </tr>\n  </tbody>\n</table>\n</div>"
     },
     "metadata": {},
     "execution_count": 5
    }
   ],
   "source": [
    "ideal_weather_df = data_df[\n",
    "                        (data_df['Max Temp'] < 80) \n",
    "                        & (data_df['Max Temp'] > 70)\n",
    "                        & (data_df['Wind Speed'] < 10)\n",
    "                        & (data_df['Cloudiness'] == 0)\n",
    "                    ]\n",
    "print(len(ideal_weather_df))\n",
    "ideal_weather_df.head()"
   ]
  },
  {
   "cell_type": "markdown",
   "metadata": {},
   "source": [
    "### Hotel Map\n",
    "* Store into variable named `hotel_df`.\n",
    "* Add a \"Hotel Name\" column to the DataFrame.\n",
    "* Set parameters to search for hotels with 5000 meters.\n",
    "* Hit the Google Places API for each city's coordinates.\n",
    "* Store the first Hotel result into the DataFrame.\n",
    "* Plot markers on top of the heatmap."
   ]
  },
  {
   "cell_type": "code",
   "execution_count": 6,
   "metadata": {
    "tags": []
   },
   "outputs": [
    {
     "output_type": "stream",
     "name": "stdout",
     "text": [
      "One or more data points missing\n"
     ]
    },
    {
     "output_type": "execute_result",
     "data": {
      "text/plain": [
       "        Hotel Name        Lat        Lng            City Country\n",
       "0        Coyhaique -45.571225 -72.068265       Coyhaique      CL\n",
       "1   Saint-Philippe -21.358118  55.764656  Saint-Philippe      RE\n",
       "2    Dolphin Coast -29.437578  31.222571    Ballitoville      ZA\n",
       "3       Sao Filipe  14.895168 -24.494564      São Filipe      CV\n",
       "4         Gqeberha -33.960837  25.602242  Port Elizabeth      ZA\n",
       "5     Ilo District -17.668084 -71.346809             Ilo      PE\n",
       "6           Sittwe  20.152766  92.867686          Sittwe      MM\n",
       "7         Necochea -38.554497 -58.739609        Necochea      AR\n",
       "8            Morón -34.655861 -58.616721           Morón      AR\n",
       "9         Kanikeli -12.955198  45.106200       Chirongui      YT\n",
       "10         Salalah  17.019384  54.110750         Salalah      OM\n",
       "11    Saint Pierre -21.332838  55.471843    Saint-Pierre      RE\n",
       "12        Myingyan  21.466222  95.388720        Myingyan      MM\n",
       "13       Caravelas -17.733767 -39.265278       Caravelas      BR\n",
       "14           Pisco -13.713456 -76.184170           Pisco      PE\n",
       "15           Young -32.702193 -57.638238           Young      UY\n",
       "16    Saint-Joseph -21.380357  55.612766    Saint-Joseph      RE\n",
       "17   Visakhapatnam  17.686816  83.218481          Yārāda      IN"
      ],
      "text/html": "<div>\n<style scoped>\n    .dataframe tbody tr th:only-of-type {\n        vertical-align: middle;\n    }\n\n    .dataframe tbody tr th {\n        vertical-align: top;\n    }\n\n    .dataframe thead th {\n        text-align: right;\n    }\n</style>\n<table border=\"1\" class=\"dataframe\">\n  <thead>\n    <tr style=\"text-align: right;\">\n      <th></th>\n      <th>Hotel Name</th>\n      <th>Lat</th>\n      <th>Lng</th>\n      <th>City</th>\n      <th>Country</th>\n    </tr>\n  </thead>\n  <tbody>\n    <tr>\n      <th>0</th>\n      <td>Coyhaique</td>\n      <td>-45.571225</td>\n      <td>-72.068265</td>\n      <td>Coyhaique</td>\n      <td>CL</td>\n    </tr>\n    <tr>\n      <th>1</th>\n      <td>Saint-Philippe</td>\n      <td>-21.358118</td>\n      <td>55.764656</td>\n      <td>Saint-Philippe</td>\n      <td>RE</td>\n    </tr>\n    <tr>\n      <th>2</th>\n      <td>Dolphin Coast</td>\n      <td>-29.437578</td>\n      <td>31.222571</td>\n      <td>Ballitoville</td>\n      <td>ZA</td>\n    </tr>\n    <tr>\n      <th>3</th>\n      <td>Sao Filipe</td>\n      <td>14.895168</td>\n      <td>-24.494564</td>\n      <td>São Filipe</td>\n      <td>CV</td>\n    </tr>\n    <tr>\n      <th>4</th>\n      <td>Gqeberha</td>\n      <td>-33.960837</td>\n      <td>25.602242</td>\n      <td>Port Elizabeth</td>\n      <td>ZA</td>\n    </tr>\n    <tr>\n      <th>5</th>\n      <td>Ilo District</td>\n      <td>-17.668084</td>\n      <td>-71.346809</td>\n      <td>Ilo</td>\n      <td>PE</td>\n    </tr>\n    <tr>\n      <th>6</th>\n      <td>Sittwe</td>\n      <td>20.152766</td>\n      <td>92.867686</td>\n      <td>Sittwe</td>\n      <td>MM</td>\n    </tr>\n    <tr>\n      <th>7</th>\n      <td>Necochea</td>\n      <td>-38.554497</td>\n      <td>-58.739609</td>\n      <td>Necochea</td>\n      <td>AR</td>\n    </tr>\n    <tr>\n      <th>8</th>\n      <td>Morón</td>\n      <td>-34.655861</td>\n      <td>-58.616721</td>\n      <td>Morón</td>\n      <td>AR</td>\n    </tr>\n    <tr>\n      <th>9</th>\n      <td>Kanikeli</td>\n      <td>-12.955198</td>\n      <td>45.106200</td>\n      <td>Chirongui</td>\n      <td>YT</td>\n    </tr>\n    <tr>\n      <th>10</th>\n      <td>Salalah</td>\n      <td>17.019384</td>\n      <td>54.110750</td>\n      <td>Salalah</td>\n      <td>OM</td>\n    </tr>\n    <tr>\n      <th>11</th>\n      <td>Saint Pierre</td>\n      <td>-21.332838</td>\n      <td>55.471843</td>\n      <td>Saint-Pierre</td>\n      <td>RE</td>\n    </tr>\n    <tr>\n      <th>12</th>\n      <td>Myingyan</td>\n      <td>21.466222</td>\n      <td>95.388720</td>\n      <td>Myingyan</td>\n      <td>MM</td>\n    </tr>\n    <tr>\n      <th>13</th>\n      <td>Caravelas</td>\n      <td>-17.733767</td>\n      <td>-39.265278</td>\n      <td>Caravelas</td>\n      <td>BR</td>\n    </tr>\n    <tr>\n      <th>14</th>\n      <td>Pisco</td>\n      <td>-13.713456</td>\n      <td>-76.184170</td>\n      <td>Pisco</td>\n      <td>PE</td>\n    </tr>\n    <tr>\n      <th>15</th>\n      <td>Young</td>\n      <td>-32.702193</td>\n      <td>-57.638238</td>\n      <td>Young</td>\n      <td>UY</td>\n    </tr>\n    <tr>\n      <th>16</th>\n      <td>Saint-Joseph</td>\n      <td>-21.380357</td>\n      <td>55.612766</td>\n      <td>Saint-Joseph</td>\n      <td>RE</td>\n    </tr>\n    <tr>\n      <th>17</th>\n      <td>Visakhapatnam</td>\n      <td>17.686816</td>\n      <td>83.218481</td>\n      <td>Yārāda</td>\n      <td>IN</td>\n    </tr>\n  </tbody>\n</table>\n</div>"
     },
     "metadata": {},
     "execution_count": 6
    }
   ],
   "source": [
    "hotel_df = pd.DataFrame()\n",
    "\n",
    "base_url = \"https://maps.googleapis.com/maps/api/place/nearbysearch/json\"\n",
    "params = {\n",
    "    'radius': 5000,\n",
    "    'types': 'hotel',\n",
    "    'key': g_key\n",
    "}\n",
    "\n",
    "for index, row in ideal_weather_df.iterrows():\n",
    "    params['location'] = f\"{row['Lat']},{row['Lon']}\"\n",
    "    hotel_data = requests.get(base_url, params=params).json()\n",
    "    \n",
    "    try:\n",
    "        # Only care about the first result\n",
    "        hotel_data = hotel_data['results'][0]\n",
    "        tmp_df = pd.DataFrame([{\n",
    "                        'Hotel Name': hotel_data['name'],\n",
    "                        'Lat': hotel_data['geometry']['location']['lat'],\n",
    "                        'Lng': hotel_data['geometry']['location']['lng'],\n",
    "                        'City': row['City'],\n",
    "                        'Country': row['Country']\n",
    "                    }])\n",
    "        hotel_df = hotel_df.append(tmp_df, ignore_index=True)\n",
    "    # In case there is no result returned or fields are missing\n",
    "    except (KeyError, IndexError):\n",
    "        print(f\"One or more data points missing\")\n",
    "\n",
    "hotel_df"
   ]
  },
  {
   "cell_type": "code",
   "execution_count": 7,
   "metadata": {},
   "outputs": [
    {
     "output_type": "display_data",
     "data": {
      "text/plain": "Figure(layout=FigureLayout(height='420px'))",
      "application/vnd.jupyter.widget-view+json": {
       "version_major": 2,
       "version_minor": 0,
       "model_id": "831c28a50da0476f9e5278ad9c4a287b"
      }
     },
     "metadata": {}
    }
   ],
   "source": [
    "locations = hotel_df[['Lat', 'Lng']]\n",
    "fig = gmaps.figure()\n",
    "fig.add_layer(gmaps.heatmap_layer(locations, dissipating=False))\n",
    "fig"
   ]
  },
  {
   "cell_type": "code",
   "execution_count": 8,
   "metadata": {},
   "outputs": [],
   "source": [
    "# NOTE: Do not change any of the code in this cell\n",
    "\n",
    "# Using the template add the hotel marks to the heatmap\n",
    "info_box_template = \"\"\"\n",
    "<dl>\n",
    "<dt>Name</dt><dd>{Hotel Name}</dd>\n",
    "<dt>City</dt><dd>{City}</dd>\n",
    "<dt>Country</dt><dd>{Country}</dd>\n",
    "</dl>\n",
    "\"\"\"\n",
    "# Store the DataFrame Row\n",
    "# NOTE: be sure to update with your DataFrame name\n",
    "hotel_info = [info_box_template.format(**row) for index, row in hotel_df.iterrows()]\n",
    "locations = hotel_df[[\"Lat\", \"Lng\"]]"
   ]
  },
  {
   "cell_type": "code",
   "execution_count": 9,
   "metadata": {},
   "outputs": [
    {
     "output_type": "display_data",
     "data": {
      "text/plain": "Figure(layout=FigureLayout(height='420px'))",
      "application/vnd.jupyter.widget-view+json": {
       "version_major": 2,
       "version_minor": 0,
       "model_id": "831c28a50da0476f9e5278ad9c4a287b"
      }
     },
     "metadata": {}
    }
   ],
   "source": [
    "# Add marker layer ontop of heat map\n",
    "\n",
    "\n",
    "# Display figure\n",
    "fig.add_layer(gmaps.marker_layer(locations, info_box_content=hotel_info))\n",
    "fig"
   ]
  },
  {
   "cell_type": "code",
   "execution_count": null,
   "metadata": {},
   "outputs": [],
   "source": []
  }
 ],
 "metadata": {
  "kernelspec": {
   "display_name": "Python 3",
   "language": "python",
   "name": "python3"
  },
  "language_info": {
   "codemirror_mode": {
    "name": "ipython",
    "version": 3
   },
   "file_extension": ".py",
   "mimetype": "text/x-python",
   "name": "python",
   "nbconvert_exporter": "python",
   "pygments_lexer": "ipython3",
   "version": "3.8.5-final"
  },
  "latex_envs": {
   "LaTeX_envs_menu_present": true,
   "autoclose": false,
   "autocomplete": true,
   "bibliofile": "biblio.bib",
   "cite_by": "apalike",
   "current_citInitial": 1,
   "eqLabelWithNumbers": true,
   "eqNumInitial": 1,
   "hotkeys": {
    "equation": "Ctrl-E",
    "itemize": "Ctrl-I"
   },
   "labels_anchors": false,
   "latex_user_defs": false,
   "report_style_numbering": false,
   "user_envs_cfg": false
  }
 },
 "nbformat": 4,
 "nbformat_minor": 4
}